{
 "cells": [
  {
   "cell_type": "markdown",
   "metadata": {},
   "source": [
    "# Exploring Hypothesis Space\n",
    "\n",
    "This notebook is builds dataset from hypothesis and then generate all possible hypothesis in the hypothesis and examins how the correct hypothesis is searched."
   ]
  },
  {
   "cell_type": "code",
   "execution_count": 167,
   "metadata": {
    "collapsed": true
   },
   "outputs": [],
   "source": [
    "import time\n",
    "import random\n",
    "import itertools\n",
    "\n",
    "import numpy as np\n",
    "import pandas as pd\n",
    "\n",
    "from __future__ import print_function\n",
    "from __future__ import division\n",
    "\n",
    "import matplotlib\n",
    "import matplotlib.pyplot as plt\n",
    "%matplotlib inline"
   ]
  },
  {
   "cell_type": "code",
   "execution_count": 168,
   "metadata": {
    "collapsed": false
   },
   "outputs": [],
   "source": [
    "TRUE_TREE_MODEL = {'age':{'young': {'student':{'yes':'yes','no':'no'}},\n",
    "                          'middle-aged': 'yes',\n",
    "                          'old':{'credit_score':{'good':'yes','bad':'no'}}}}\n",
    "\n",
    "ATTRIBUTE_DICT = {'age': ['young','middle-aged','old'],\n",
    "                  'student' : ['yes','no'],\n",
    "                  'credit_score' : ['good','bad']}\n",
    "\n",
    "#this is to preserve order\n",
    "ATTRIBUTE_NAMES = ['age','student','credit_score']\n",
    "\n",
    "TARGET_COLUMN = 'isEligible'\n",
    "TARGET_POSITIVE_VALUE,TARGET_NEGATIVE_VALUE = 'yes','no'\n",
    "TARGET_DICT = {TARGET_COLUMN : [TARGET_POSITIVE_VALUE,TARGET_NEGATIVE_VALUE]}"
   ]
  },
  {
   "cell_type": "markdown",
   "metadata": {},
   "source": [
    "This tree looks like ![title](./../ref/dm_decision_tree.jpg)\n",
    "\n",
    "Total combinations possible are = # of values for 'age' X # of values for student X # of values for credit_score"
   ]
  },
  {
   "cell_type": "code",
   "execution_count": 169,
   "metadata": {
    "collapsed": false
   },
   "outputs": [
    {
     "name": "stdout",
     "output_type": "stream",
     "text": [
      "Data Space size : 12\n"
     ]
    }
   ],
   "source": [
    "possible_size = len(ATTRIBUTE_DICT['age'])*len(ATTRIBUTE_DICT['student'])*len(ATTRIBUTE_DICT['credit_score'])\n",
    "print('Data Space size : %d'%possible_size)"
   ]
  },
  {
   "cell_type": "code",
   "execution_count": 170,
   "metadata": {
    "collapsed": false
   },
   "outputs": [
    {
     "data": {
      "text/html": [
       "<div>\n",
       "<style scoped>\n",
       "    .dataframe tbody tr th:only-of-type {\n",
       "        vertical-align: middle;\n",
       "    }\n",
       "\n",
       "    .dataframe tbody tr th {\n",
       "        vertical-align: top;\n",
       "    }\n",
       "\n",
       "    .dataframe thead th {\n",
       "        text-align: right;\n",
       "    }\n",
       "</style>\n",
       "<table border=\"1\" class=\"dataframe\">\n",
       "  <thead>\n",
       "    <tr style=\"text-align: right;\">\n",
       "      <th></th>\n",
       "      <th>age</th>\n",
       "      <th>student</th>\n",
       "      <th>credit_score</th>\n",
       "    </tr>\n",
       "  </thead>\n",
       "  <tbody>\n",
       "    <tr>\n",
       "      <th>0</th>\n",
       "      <td>young</td>\n",
       "      <td>yes</td>\n",
       "      <td>good</td>\n",
       "    </tr>\n",
       "    <tr>\n",
       "      <th>1</th>\n",
       "      <td>young</td>\n",
       "      <td>yes</td>\n",
       "      <td>bad</td>\n",
       "    </tr>\n",
       "    <tr>\n",
       "      <th>2</th>\n",
       "      <td>young</td>\n",
       "      <td>no</td>\n",
       "      <td>good</td>\n",
       "    </tr>\n",
       "    <tr>\n",
       "      <th>3</th>\n",
       "      <td>young</td>\n",
       "      <td>no</td>\n",
       "      <td>bad</td>\n",
       "    </tr>\n",
       "    <tr>\n",
       "      <th>4</th>\n",
       "      <td>middle-aged</td>\n",
       "      <td>yes</td>\n",
       "      <td>good</td>\n",
       "    </tr>\n",
       "    <tr>\n",
       "      <th>5</th>\n",
       "      <td>middle-aged</td>\n",
       "      <td>yes</td>\n",
       "      <td>bad</td>\n",
       "    </tr>\n",
       "    <tr>\n",
       "      <th>6</th>\n",
       "      <td>middle-aged</td>\n",
       "      <td>no</td>\n",
       "      <td>good</td>\n",
       "    </tr>\n",
       "    <tr>\n",
       "      <th>7</th>\n",
       "      <td>middle-aged</td>\n",
       "      <td>no</td>\n",
       "      <td>bad</td>\n",
       "    </tr>\n",
       "    <tr>\n",
       "      <th>8</th>\n",
       "      <td>old</td>\n",
       "      <td>yes</td>\n",
       "      <td>good</td>\n",
       "    </tr>\n",
       "    <tr>\n",
       "      <th>9</th>\n",
       "      <td>old</td>\n",
       "      <td>yes</td>\n",
       "      <td>bad</td>\n",
       "    </tr>\n",
       "    <tr>\n",
       "      <th>10</th>\n",
       "      <td>old</td>\n",
       "      <td>no</td>\n",
       "      <td>good</td>\n",
       "    </tr>\n",
       "    <tr>\n",
       "      <th>11</th>\n",
       "      <td>old</td>\n",
       "      <td>no</td>\n",
       "      <td>bad</td>\n",
       "    </tr>\n",
       "  </tbody>\n",
       "</table>\n",
       "</div>"
      ],
      "text/plain": [
       "            age student credit_score\n",
       "0         young     yes         good\n",
       "1         young     yes          bad\n",
       "2         young      no         good\n",
       "3         young      no          bad\n",
       "4   middle-aged     yes         good\n",
       "5   middle-aged     yes          bad\n",
       "6   middle-aged      no         good\n",
       "7   middle-aged      no          bad\n",
       "8           old     yes         good\n",
       "9           old     yes          bad\n",
       "10          old      no         good\n",
       "11          old      no          bad"
      ]
     },
     "execution_count": 170,
     "metadata": {},
     "output_type": "execute_result"
    }
   ],
   "source": [
    "attributes_data = pd.DataFrame(list(itertools.product(*[ATTRIBUTE_DICT[attr] for attr in ATTRIBUTE_NAMES])),columns=ATTRIBUTE_NAMES)\n",
    "attributes_data"
   ]
  },
  {
   "cell_type": "code",
   "execution_count": 171,
   "metadata": {
    "collapsed": true
   },
   "outputs": [],
   "source": [
    "def classify(tree,rec_dict):\n",
    "    for attribute,sub_tree in tree.items():\n",
    "        attribute_value = rec_dict[attribute]\n",
    "        value_tree = sub_tree[attribute_value]\n",
    "        if isinstance(value_tree,dict):\n",
    "            return classify(value_tree,rec_dict)\n",
    "        else:\n",
    "            return value_tree"
   ]
  },
  {
   "cell_type": "code",
   "execution_count": 172,
   "metadata": {
    "collapsed": false
   },
   "outputs": [
    {
     "data": {
      "text/html": [
       "<div>\n",
       "<style scoped>\n",
       "    .dataframe tbody tr th:only-of-type {\n",
       "        vertical-align: middle;\n",
       "    }\n",
       "\n",
       "    .dataframe tbody tr th {\n",
       "        vertical-align: top;\n",
       "    }\n",
       "\n",
       "    .dataframe thead th {\n",
       "        text-align: right;\n",
       "    }\n",
       "</style>\n",
       "<table border=\"1\" class=\"dataframe\">\n",
       "  <thead>\n",
       "    <tr style=\"text-align: right;\">\n",
       "      <th></th>\n",
       "      <th>age</th>\n",
       "      <th>student</th>\n",
       "      <th>credit_score</th>\n",
       "      <th>isEligible</th>\n",
       "    </tr>\n",
       "  </thead>\n",
       "  <tbody>\n",
       "    <tr>\n",
       "      <th>0</th>\n",
       "      <td>young</td>\n",
       "      <td>yes</td>\n",
       "      <td>good</td>\n",
       "      <td>yes</td>\n",
       "    </tr>\n",
       "    <tr>\n",
       "      <th>1</th>\n",
       "      <td>young</td>\n",
       "      <td>yes</td>\n",
       "      <td>bad</td>\n",
       "      <td>yes</td>\n",
       "    </tr>\n",
       "    <tr>\n",
       "      <th>2</th>\n",
       "      <td>young</td>\n",
       "      <td>no</td>\n",
       "      <td>good</td>\n",
       "      <td>no</td>\n",
       "    </tr>\n",
       "    <tr>\n",
       "      <th>3</th>\n",
       "      <td>young</td>\n",
       "      <td>no</td>\n",
       "      <td>bad</td>\n",
       "      <td>no</td>\n",
       "    </tr>\n",
       "    <tr>\n",
       "      <th>4</th>\n",
       "      <td>middle-aged</td>\n",
       "      <td>yes</td>\n",
       "      <td>good</td>\n",
       "      <td>yes</td>\n",
       "    </tr>\n",
       "    <tr>\n",
       "      <th>5</th>\n",
       "      <td>middle-aged</td>\n",
       "      <td>yes</td>\n",
       "      <td>bad</td>\n",
       "      <td>yes</td>\n",
       "    </tr>\n",
       "    <tr>\n",
       "      <th>6</th>\n",
       "      <td>middle-aged</td>\n",
       "      <td>no</td>\n",
       "      <td>good</td>\n",
       "      <td>yes</td>\n",
       "    </tr>\n",
       "    <tr>\n",
       "      <th>7</th>\n",
       "      <td>middle-aged</td>\n",
       "      <td>no</td>\n",
       "      <td>bad</td>\n",
       "      <td>yes</td>\n",
       "    </tr>\n",
       "    <tr>\n",
       "      <th>8</th>\n",
       "      <td>old</td>\n",
       "      <td>yes</td>\n",
       "      <td>good</td>\n",
       "      <td>yes</td>\n",
       "    </tr>\n",
       "    <tr>\n",
       "      <th>9</th>\n",
       "      <td>old</td>\n",
       "      <td>yes</td>\n",
       "      <td>bad</td>\n",
       "      <td>no</td>\n",
       "    </tr>\n",
       "    <tr>\n",
       "      <th>10</th>\n",
       "      <td>old</td>\n",
       "      <td>no</td>\n",
       "      <td>good</td>\n",
       "      <td>yes</td>\n",
       "    </tr>\n",
       "    <tr>\n",
       "      <th>11</th>\n",
       "      <td>old</td>\n",
       "      <td>no</td>\n",
       "      <td>bad</td>\n",
       "      <td>no</td>\n",
       "    </tr>\n",
       "  </tbody>\n",
       "</table>\n",
       "</div>"
      ],
      "text/plain": [
       "            age student credit_score isEligible\n",
       "0         young     yes         good        yes\n",
       "1         young     yes          bad        yes\n",
       "2         young      no         good         no\n",
       "3         young      no          bad         no\n",
       "4   middle-aged     yes         good        yes\n",
       "5   middle-aged     yes          bad        yes\n",
       "6   middle-aged      no         good        yes\n",
       "7   middle-aged      no          bad        yes\n",
       "8           old     yes         good        yes\n",
       "9           old     yes          bad         no\n",
       "10          old      no         good        yes\n",
       "11          old      no          bad         no"
      ]
     },
     "execution_count": 172,
     "metadata": {},
     "output_type": "execute_result"
    }
   ],
   "source": [
    "predictions = [classify(TRUE_TREE_MODEL,record) for record in attributes_data.to_dict('records')]\n",
    "generated_data = pd.concat([attributes_data,pd.Series(predictions,name=TARGET_COLUMN)],axis=1)\n",
    "generated_data"
   ]
  },
  {
   "cell_type": "code",
   "execution_count": 173,
   "metadata": {
    "collapsed": false
   },
   "outputs": [],
   "source": [
    "def accuracy(actual,predicted):\n",
    "    return (actual == predicted).sum()/len(actual)"
   ]
  },
  {
   "cell_type": "code",
   "execution_count": 174,
   "metadata": {
    "collapsed": true
   },
   "outputs": [],
   "source": [
    "def error(actual,predicted):\n",
    "    return 1 - accuracy(actual,predicted)"
   ]
  },
  {
   "cell_type": "markdown",
   "metadata": {
    "collapsed": false
   },
   "source": [
    "### How many distinct decision trees with n Boolean attributes?\n",
    "= number of Boolean functions = number of distinct truth tables with 2^n\n",
    "\n",
    "E.g., with 6 Boolean attributes, there are 18,446,744,073,709,551,616 trees\n",
    "\n",
    "So, we'll generate a hypothesis and test it against data. And measure how accurately the hypothesis explains the data."
   ]
  },
  {
   "cell_type": "code",
   "execution_count": 175,
   "metadata": {
    "collapsed": false
   },
   "outputs": [],
   "source": [
    "def random_label():\n",
    "    return random.choice([TARGET_POSITIVE_VALUE,TARGET_NEGATIVE_VALUE])"
   ]
  },
  {
   "cell_type": "code",
   "execution_count": 176,
   "metadata": {
    "collapsed": false
   },
   "outputs": [
    {
     "data": {
      "text/plain": [
       "'no'"
      ]
     },
     "execution_count": 176,
     "metadata": {},
     "output_type": "execute_result"
    }
   ],
   "source": [
    "random_label()"
   ]
  },
  {
   "cell_type": "code",
   "execution_count": 177,
   "metadata": {
    "collapsed": false
   },
   "outputs": [],
   "source": [
    "def build_tree(attributes):\n",
    "    \n",
    "    tree = {}\n",
    "    if len(attributes) < 1:\n",
    "        return random_label()\n",
    "    \n",
    "    chosen_attribute = random.choice(attributes)\n",
    "    tree = {chosen_attribute:{}}\n",
    "    \n",
    "    value_list = ATTRIBUTE_DICT[chosen_attribute]\n",
    "    subset = attributes[:]\n",
    "    subset.remove(chosen_attribute)\n",
    "    \n",
    "    for value in value_list:\n",
    "        subtree = build_tree(subset) \n",
    "        tree[chosen_attribute][value] = subtree\n",
    "        \n",
    "    return tree"
   ]
  },
  {
   "cell_type": "code",
   "execution_count": 178,
   "metadata": {
    "collapsed": false
   },
   "outputs": [
    {
     "name": "stdout",
     "output_type": "stream",
     "text": [
      "selected attributes : ['student', 'credit_score']\n"
     ]
    },
    {
     "data": {
      "text/plain": [
       "{'student': {'no': {'credit_score': {'bad': 'no', 'good': 'no'}},\n",
       "  'yes': {'credit_score': {'bad': 'yes', 'good': 'yes'}}}}"
      ]
     },
     "execution_count": 178,
     "metadata": {},
     "output_type": "execute_result"
    }
   ],
   "source": [
    "attributes = np.random.choice(ATTRIBUTE_DICT.keys(), random.randint(1,len(ATTRIBUTE_DICT)), replace=False).tolist()\n",
    "print('selected attributes : %s'%attributes)\n",
    "generated_tree = build_tree(attributes)\n",
    "generated_tree"
   ]
  },
  {
   "cell_type": "code",
   "execution_count": 179,
   "metadata": {
    "collapsed": false
   },
   "outputs": [
    {
     "data": {
      "text/plain": [
       "0     yes\n",
       "1     yes\n",
       "2      no\n",
       "3      no\n",
       "4     yes\n",
       "5     yes\n",
       "6      no\n",
       "7      no\n",
       "8     yes\n",
       "9     yes\n",
       "10     no\n",
       "11     no\n",
       "dtype: object"
      ]
     },
     "execution_count": 179,
     "metadata": {},
     "output_type": "execute_result"
    }
   ],
   "source": [
    "predictions = pd.Series([classify(generated_tree,record) for record in attributes_data.to_dict('records')])\n",
    "predictions"
   ]
  },
  {
   "cell_type": "code",
   "execution_count": 180,
   "metadata": {
    "collapsed": false
   },
   "outputs": [
    {
     "data": {
      "text/plain": [
       "0     yes\n",
       "1     yes\n",
       "2      no\n",
       "3      no\n",
       "4     yes\n",
       "5     yes\n",
       "6     yes\n",
       "7     yes\n",
       "8     yes\n",
       "9      no\n",
       "10    yes\n",
       "11     no\n",
       "dtype: object"
      ]
     },
     "execution_count": 180,
     "metadata": {},
     "output_type": "execute_result"
    }
   ],
   "source": [
    "actuals = pd.Series([classify(TRUE_TREE_MODEL,record) for record in attributes_data.to_dict('records')])\n",
    "actuals"
   ]
  },
  {
   "cell_type": "code",
   "execution_count": 181,
   "metadata": {
    "collapsed": false
   },
   "outputs": [
    {
     "data": {
      "text/plain": [
       "0.33333333333333337"
      ]
     },
     "execution_count": 181,
     "metadata": {},
     "output_type": "execute_result"
    }
   ],
   "source": [
    "error(actuals,predictions)"
   ]
  },
  {
   "cell_type": "markdown",
   "metadata": {},
   "source": [
    "Lets generate N hypothesis from the hypothesis space and measure how accurate they are."
   ]
  },
  {
   "cell_type": "code",
   "execution_count": 189,
   "metadata": {
    "collapsed": false
   },
   "outputs": [
    {
     "name": "stdout",
     "output_type": "stream",
     "text": [
      "Perfect! Found the perect explaination\n",
      "{'age': {'old': {'credit_score': {'bad': {'student': {'yes': 'no', 'no': 'no'}}, 'good': {'student': {'yes': 'yes', 'no': 'yes'}}}}, 'middle-aged': {'student': {'yes': {'credit_score': {'bad': 'yes', 'good': 'yes'}}, 'no': {'credit_score': {'bad': 'yes', 'good': 'yes'}}}}, 'young': {'credit_score': {'bad': {'student': {'yes': 'yes', 'no': 'no'}}, 'good': {'student': {'yes': 'yes', 'no': 'no'}}}}}}\n",
      "Time taken to search hypothesis space : 3.95899987221\n"
     ]
    }
   ],
   "source": [
    "N=5000\n",
    "actuals = pd.Series([classify(TRUE_TREE_MODEL,record) for record in attributes_data.to_dict('records')])\n",
    "\n",
    "start = time.time()\n",
    "hypothesis_list = []\n",
    "for i in range(N):\n",
    "    attributes = np.random.choice(ATTRIBUTE_DICT.keys(), random.randint(1,len(ATTRIBUTE_DICT)), replace=False).tolist()\n",
    "    generated_tree = build_tree(attributes)\n",
    "    predictions = pd.Series([classify(generated_tree,record) for record in attributes_data.to_dict('records')])\n",
    "    hypothesis_error = error(actuals,predictions)\n",
    "    hypothesis_list.append((generated_tree,hypothesis_error))\n",
    "    \n",
    "    if hypothesis_error == 0.0:\n",
    "        print('Perfect! Found the perect explaination')\n",
    "        print(generated_tree)\n",
    "        \n",
    "print('Time taken to search hypothesis space : %s'%(time.time()-start))        "
   ]
  },
  {
   "cell_type": "code",
   "execution_count": 191,
   "metadata": {
    "collapsed": false
   },
   "outputs": [
    {
     "data": {
      "text/html": [
       "<div>\n",
       "<style scoped>\n",
       "    .dataframe tbody tr th:only-of-type {\n",
       "        vertical-align: middle;\n",
       "    }\n",
       "\n",
       "    .dataframe tbody tr th {\n",
       "        vertical-align: top;\n",
       "    }\n",
       "\n",
       "    .dataframe thead th {\n",
       "        text-align: right;\n",
       "    }\n",
       "</style>\n",
       "<table border=\"1\" class=\"dataframe\">\n",
       "  <thead>\n",
       "    <tr style=\"text-align: right;\">\n",
       "      <th></th>\n",
       "      <th>hypothesis</th>\n",
       "      <th>error</th>\n",
       "    </tr>\n",
       "  </thead>\n",
       "  <tbody>\n",
       "    <tr>\n",
       "      <th>0</th>\n",
       "      <td>{u'student': {u'yes': u'no', u'no': u'yes'}}</td>\n",
       "      <td>0.666667</td>\n",
       "    </tr>\n",
       "    <tr>\n",
       "      <th>1</th>\n",
       "      <td>{u'student': {u'yes': {u'credit_score': {'bad'...</td>\n",
       "      <td>0.416667</td>\n",
       "    </tr>\n",
       "    <tr>\n",
       "      <th>2</th>\n",
       "      <td>{u'credit_score': {u'bad': u'no', u'good': u'y...</td>\n",
       "      <td>0.333333</td>\n",
       "    </tr>\n",
       "  </tbody>\n",
       "</table>\n",
       "</div>"
      ],
      "text/plain": [
       "                                          hypothesis     error\n",
       "0       {u'student': {u'yes': u'no', u'no': u'yes'}}  0.666667\n",
       "1  {u'student': {u'yes': {u'credit_score': {'bad'...  0.416667\n",
       "2  {u'credit_score': {u'bad': u'no', u'good': u'y...  0.333333"
      ]
     },
     "execution_count": 191,
     "metadata": {},
     "output_type": "execute_result"
    }
   ],
   "source": [
    "hypothesis_search_data = pd.DataFrame(hypothesis_list,columns=['hypothesis','error'])\n",
    "hypothesis_search_data[:3]                                "
   ]
  },
  {
   "cell_type": "markdown",
   "metadata": {},
   "source": [
    "## Now plot the hypothesis search error"
   ]
  },
  {
   "cell_type": "code",
   "execution_count": 192,
   "metadata": {
    "collapsed": false
   },
   "outputs": [
    {
     "data": {
      "text/plain": [
       "<matplotlib.axes._subplots.AxesSubplot at 0xcc5a358>"
      ]
     },
     "execution_count": 192,
     "metadata": {},
     "output_type": "execute_result"
    },
    {
     "data": {
      "image/png": "[encoded data removed]",
      "text/plain": [
       "<matplotlib.figure.Figure at 0xcba8d68>"
      ]
     },
     "metadata": {},
     "output_type": "display_data"
    }
   ],
   "source": [
    "hypothesis_search_data['error'].plot(figsize=(20,5),title=\"hypothesis error\")"
   ]
  },
  {
   "cell_type": "markdown",
   "metadata": {
    "collapsed": false
   },
   "source": [
    "### Alternate Hypothesis"
   ]
  },
  {
   "cell_type": "code",
   "execution_count": 195,
   "metadata": {
    "collapsed": true
   },
   "outputs": [],
   "source": [
    "alternative_hypothesis = {'age': {'old': {'credit_score': {'bad': {'student': {'yes': 'no', 'no': 'no'}}, \n",
    "                                                           'good': {'student': {'yes': 'yes', 'no': 'yes'}}}}, \n",
    "                                  'middle-aged': {'student': {'yes': {'credit_score': {'bad': 'yes', 'good': 'yes'}}, \n",
    "                                                              'no': {'credit_score': {'bad': 'yes', 'good': 'yes'}}}}, \n",
    "                                  'young': {'credit_score': {'bad': {'student': {'yes': 'yes', 'no': 'no'}}, \n",
    "                                                             'good': {'student': {'yes': 'yes', 'no': 'no'}}}}}}"
   ]
  },
  {
   "cell_type": "code",
   "execution_count": 198,
   "metadata": {
    "collapsed": false
   },
   "outputs": [
    {
     "name": "stdout",
     "output_type": "stream",
     "text": [
      "0.0\n"
     ]
    }
   ],
   "source": [
    "actuals = pd.Series([classify(TRUE_TREE_MODEL,record) for record in attributes_data.to_dict('records')])\n",
    "predictions = pd.Series([classify(alternative_hypothesis,record) for record in attributes_data.to_dict('records')])\n",
    "hypothesis_error = error(actuals,predictions)\n",
    "print(hypothesis_error)"
   ]
  }
 ],
 "metadata": {
  "kernelspec": {
   "display_name": "Python 2",
   "language": "python",
   "name": "python2"
  },
  "language_info": {
   "codemirror_mode": {
    "name": "ipython",
    "version": 2
   },
   "file_extension": ".py",
   "mimetype": "text/x-python",
   "name": "python",
   "nbconvert_exporter": "python",
   "pygments_lexer": "ipython2",
   "version": "2.7.13"
  }
 },
 "nbformat": 4,
 "nbformat_minor": 0
}
