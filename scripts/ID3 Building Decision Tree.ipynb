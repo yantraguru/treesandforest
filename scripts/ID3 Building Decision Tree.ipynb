{
 "cells": [
  {
   "cell_type": "markdown",
   "metadata": {},
   "source": [
    "# ID3 (Iterative Dichotomiser 3) Invented by J.Ross Quinlan in 1975.\n",
    "\n",
    "The following snippet shows the algorithm from pg 56 of Machine Learning by Tom M. Mitchell\n",
    "\n",
    "![title](./../ref/ID3_algorithm.PNG)"
   ]
  },
  {
   "cell_type": "code",
   "execution_count": 4,
   "metadata": {
    "collapsed": true
   },
   "outputs": [],
   "source": [
    "DATA_CSV_FILE_PATH = './../data/tennis.csv'\n",
    "TARGET_COLUMN = 'play'\n",
    "TARGET_POSITIVE_VALUE = 'yes'"
   ]
  },
  {
   "cell_type": "code",
   "execution_count": 5,
   "metadata": {
    "collapsed": true
   },
   "outputs": [],
   "source": [
    "import random\n",
    "\n",
    "import numpy as np\n",
    "import pandas as pd\n",
    "\n",
    "from __future__ import print_function\n",
    "from __future__ import division"
   ]
  },
  {
   "cell_type": "code",
   "execution_count": 6,
   "metadata": {
    "collapsed": false
   },
   "outputs": [],
   "source": [
    "data = pd.read_csv(DATA_CSV_FILE_PATH) \n",
    "attributes_data = data.drop(TARGET_COLUMN,axis=1)\n",
    "target = data[TARGET_COLUMN]"
   ]
  },
  {
   "cell_type": "code",
   "execution_count": 7,
   "metadata": {
    "collapsed": false
   },
   "outputs": [
    {
     "data": {
      "text/html": [
       "<div>\n",
       "<style scoped>\n",
       "    .dataframe tbody tr th:only-of-type {\n",
       "        vertical-align: middle;\n",
       "    }\n",
       "\n",
       "    .dataframe tbody tr th {\n",
       "        vertical-align: top;\n",
       "    }\n",
       "\n",
       "    .dataframe thead th {\n",
       "        text-align: right;\n",
       "    }\n",
       "</style>\n",
       "<table border=\"1\" class=\"dataframe\">\n",
       "  <thead>\n",
       "    <tr style=\"text-align: right;\">\n",
       "      <th></th>\n",
       "      <th>outlook</th>\n",
       "      <th>temp</th>\n",
       "      <th>humidity</th>\n",
       "      <th>windy</th>\n",
       "    </tr>\n",
       "  </thead>\n",
       "  <tbody>\n",
       "    <tr>\n",
       "      <th>0</th>\n",
       "      <td>sunny</td>\n",
       "      <td>hot</td>\n",
       "      <td>high</td>\n",
       "      <td>False</td>\n",
       "    </tr>\n",
       "    <tr>\n",
       "      <th>1</th>\n",
       "      <td>sunny</td>\n",
       "      <td>hot</td>\n",
       "      <td>high</td>\n",
       "      <td>True</td>\n",
       "    </tr>\n",
       "    <tr>\n",
       "      <th>2</th>\n",
       "      <td>overcast</td>\n",
       "      <td>hot</td>\n",
       "      <td>high</td>\n",
       "      <td>False</td>\n",
       "    </tr>\n",
       "  </tbody>\n",
       "</table>\n",
       "</div>"
      ],
      "text/plain": [
       "    outlook temp humidity  windy\n",
       "0     sunny  hot     high  False\n",
       "1     sunny  hot     high   True\n",
       "2  overcast  hot     high  False"
      ]
     },
     "execution_count": 7,
     "metadata": {},
     "output_type": "execute_result"
    }
   ],
   "source": [
    "attributes_data[:3]"
   ]
  },
  {
   "cell_type": "code",
   "execution_count": 8,
   "metadata": {
    "collapsed": false
   },
   "outputs": [
    {
     "data": {
      "text/plain": [
       "0     no\n",
       "1     no\n",
       "2    yes\n",
       "Name: play, dtype: object"
      ]
     },
     "execution_count": 8,
     "metadata": {},
     "output_type": "execute_result"
    }
   ],
   "source": [
    "target[:3]"
   ]
  },
  {
   "cell_type": "markdown",
   "metadata": {},
   "source": [
    "## This algorithms works in the following setting\n",
    "1. The possible values of target are 2.\n",
    "2. All attribute have discrete values. Target values are also discrete values."
   ]
  },
  {
   "cell_type": "markdown",
   "metadata": {},
   "source": [
    "### Measuring partition effectiveness / purity"
   ]
  },
  {
   "cell_type": "markdown",
   "metadata": {},
   "source": [
    "The following image taken from https://sebastianraschka.com/faq/docs/decision-tree-binary.html shows how different impurity measures change when p -> proportion of positive example changes\n",
    "\n",
    "![title](./../ref/impurity measures.png)\n",
    "\n",
    "Entropy is calculated as\n",
    "\n",
    "![title](./../ref/Entropy.jpg)"
   ]
  },
  {
   "cell_type": "code",
   "execution_count": 9,
   "metadata": {
    "collapsed": true
   },
   "outputs": [],
   "source": [
    "'''\n",
    "p is proportion of positive examples.\n",
    "'''\n",
    "def get_positive_fraction(target):\n",
    "    return len(target[target==TARGET_POSITIVE_VALUE])/len(target)\n",
    "\n",
    "def gini(p):\n",
    "    return (p)*(1 - (p)) + (1 - p)*(1 - (1-p))\n",
    "\n",
    "def entropy(p):\n",
    "    if p==0 or p==1:\n",
    "        return 0.0\n",
    "    return - p*np.log2(p) - (1 - p)*np.log2((1 - p))\n",
    "\n",
    "def classification_error(p):\n",
    "    return 1 - np.max([p, 1 - p])"
   ]
  },
  {
   "cell_type": "code",
   "execution_count": 10,
   "metadata": {
    "collapsed": false
   },
   "outputs": [
    {
     "name": "stdout",
     "output_type": "stream",
     "text": [
      "gini : 0.459183673469 | entropy : 0.940285958671 | classification_error : 0.357142857143\n"
     ]
    }
   ],
   "source": [
    "p = get_positive_fraction(target)\n",
    "print('gini : {} | entropy : {} | classification_error : {}'.format(gini(p), entropy(p), classification_error(p)))"
   ]
  },
  {
   "cell_type": "code",
   "execution_count": 11,
   "metadata": {
    "collapsed": true
   },
   "outputs": [],
   "source": [
    "def most_common(target):\n",
    "    return target.value_counts().idxmax()"
   ]
  },
  {
   "cell_type": "code",
   "execution_count": 12,
   "metadata": {
    "collapsed": false
   },
   "outputs": [
    {
     "data": {
      "text/plain": [
       "'yes'"
      ]
     },
     "execution_count": 12,
     "metadata": {},
     "output_type": "execute_result"
    }
   ],
   "source": [
    "most_common(target)"
   ]
  },
  {
   "cell_type": "markdown",
   "metadata": {},
   "source": [
    "### Information gain of the attribute\n",
    "\n",
    "Information Gain is defined as \n",
    "![title](./../ref/InformationGain.jpg)"
   ]
  },
  {
   "cell_type": "code",
   "execution_count": 13,
   "metadata": {
    "collapsed": true
   },
   "outputs": [],
   "source": [
    "def get_subsets(data,attribute,target):\n",
    "    subset_list = []\n",
    "    attribute_values = data[attribute].unique()\n",
    "    for value in attribute_values:\n",
    "        value_filter = data[attribute] == value\n",
    "        subset = (data[value_filter],target[value_filter])\n",
    "        subset_list.append(subset)\n",
    "    return subset_list"
   ]
  },
  {
   "cell_type": "code",
   "execution_count": 14,
   "metadata": {
    "collapsed": false
   },
   "outputs": [
    {
     "data": {
      "text/html": [
       "<div>\n",
       "<style scoped>\n",
       "    .dataframe tbody tr th:only-of-type {\n",
       "        vertical-align: middle;\n",
       "    }\n",
       "\n",
       "    .dataframe tbody tr th {\n",
       "        vertical-align: top;\n",
       "    }\n",
       "\n",
       "    .dataframe thead th {\n",
       "        text-align: right;\n",
       "    }\n",
       "</style>\n",
       "<table border=\"1\" class=\"dataframe\">\n",
       "  <thead>\n",
       "    <tr style=\"text-align: right;\">\n",
       "      <th></th>\n",
       "      <th>outlook</th>\n",
       "      <th>temp</th>\n",
       "      <th>humidity</th>\n",
       "      <th>windy</th>\n",
       "    </tr>\n",
       "  </thead>\n",
       "  <tbody>\n",
       "    <tr>\n",
       "      <th>2</th>\n",
       "      <td>overcast</td>\n",
       "      <td>hot</td>\n",
       "      <td>high</td>\n",
       "      <td>False</td>\n",
       "    </tr>\n",
       "    <tr>\n",
       "      <th>6</th>\n",
       "      <td>overcast</td>\n",
       "      <td>cool</td>\n",
       "      <td>normal</td>\n",
       "      <td>True</td>\n",
       "    </tr>\n",
       "    <tr>\n",
       "      <th>11</th>\n",
       "      <td>overcast</td>\n",
       "      <td>mild</td>\n",
       "      <td>high</td>\n",
       "      <td>True</td>\n",
       "    </tr>\n",
       "    <tr>\n",
       "      <th>12</th>\n",
       "      <td>overcast</td>\n",
       "      <td>hot</td>\n",
       "      <td>normal</td>\n",
       "      <td>False</td>\n",
       "    </tr>\n",
       "  </tbody>\n",
       "</table>\n",
       "</div>"
      ],
      "text/plain": [
       "     outlook  temp humidity  windy\n",
       "2   overcast   hot     high  False\n",
       "6   overcast  cool   normal   True\n",
       "11  overcast  mild     high   True\n",
       "12  overcast   hot   normal  False"
      ]
     },
     "execution_count": 14,
     "metadata": {},
     "output_type": "execute_result"
    }
   ],
   "source": [
    "get_subsets(attributes_data,attributes_data.columns[0],target)[1][0]"
   ]
  },
  {
   "cell_type": "code",
   "execution_count": 15,
   "metadata": {
    "collapsed": false
   },
   "outputs": [],
   "source": [
    "def information_gain(data,attribute,target):\n",
    "    positive_label_fraction = get_positive_fraction(target)\n",
    "    attribute_entropy = entropy(positive_label_fraction)    \n",
    "    \n",
    "    subset_list = get_subsets(data,attribute,target)\n",
    "    sum_subset_entropy = 0.0\n",
    "    for subset in subset_list:\n",
    "        subset_data,subset_target = subset\n",
    "        sum_subset_entropy = sum_subset_entropy + (len(subset_target)/len(target)) * entropy(get_positive_fraction(subset_target))\n",
    "        \n",
    "    inf_gain = attribute_entropy - sum_subset_entropy\n",
    "    return inf_gain"
   ]
  },
  {
   "cell_type": "code",
   "execution_count": 16,
   "metadata": {
    "collapsed": false
   },
   "outputs": [
    {
     "name": "stdout",
     "output_type": "stream",
     "text": [
      "information gain for outlook is 0.246749819774\n",
      "information gain for temp is 0.029222565659\n",
      "information gain for humidity is 0.151835501362\n",
      "information gain for windy is 0.0481270304083\n"
     ]
    }
   ],
   "source": [
    "for attribute in attributes_data.columns:\n",
    "    print('information gain for {} is {}'.format(attribute,information_gain(attributes_data,attribute,target)))"
   ]
  },
  {
   "cell_type": "code",
   "execution_count": 17,
   "metadata": {
    "collapsed": true
   },
   "outputs": [],
   "source": [
    "def get_best_attribute(data, attributes, target):\n",
    "\n",
    "    best = attributes[0]\n",
    "    max_gain = 0.0;\n",
    "\n",
    "    for attribute in attributes:\n",
    "        gain = information_gain(data,attribute,target) \n",
    "        if gain > max_gain:\n",
    "            max_gain = gain\n",
    "            best_attribute = attribute\n",
    "\n",
    "    return best_attribute,max_gain"
   ]
  },
  {
   "cell_type": "code",
   "execution_count": 18,
   "metadata": {
    "collapsed": false
   },
   "outputs": [
    {
     "data": {
      "text/plain": [
       "('outlook', 0.24674981977443933)"
      ]
     },
     "execution_count": 18,
     "metadata": {},
     "output_type": "execute_result"
    }
   ],
   "source": [
    "get_best_attribute(attributes_data,attributes_data.columns,target)"
   ]
  },
  {
   "cell_type": "markdown",
   "metadata": {},
   "source": [
    "### Build Tree\n",
    "Underlying data structure for ID3 tree is nested dictionaries"
   ]
  },
  {
   "cell_type": "code",
   "execution_count": 19,
   "metadata": {
    "collapsed": false
   },
   "outputs": [],
   "source": [
    "def build_ID3_tree(data,target,attributes):\n",
    "    \n",
    "    tree = {}\n",
    "    if len(target.unique()) == 1:\n",
    "        label = target.unique()[0]\n",
    "        return label\n",
    "    \n",
    "    if len(attributes) == 1 or len(data) == 0:\n",
    "        return most_common(target)\n",
    "    \n",
    "    best_attribute,information_gain = get_best_attribute(data,attributes,target)\n",
    "    tree = {best_attribute:{}}\n",
    "    \n",
    "    subset_list = get_subsets(data,best_attribute,target)\n",
    "    \n",
    "    for subset,subset_target in subset_list:\n",
    "        subset_value = subset[best_attribute].unique()[0]\n",
    "        subset = subset.drop(best_attribute,axis=1)\n",
    "        subtree = build_ID3_tree(subset,subset_target,subset.columns) \n",
    "        tree[best_attribute][subset_value] = subtree\n",
    "        \n",
    "    return tree"
   ]
  },
  {
   "cell_type": "code",
   "execution_count": 20,
   "metadata": {
    "collapsed": false
   },
   "outputs": [],
   "source": [
    "# All positive examples\n",
    "tree = build_ID3_tree(attributes_data,target,attributes_data.columns)"
   ]
  },
  {
   "cell_type": "code",
   "execution_count": 21,
   "metadata": {
    "collapsed": false
   },
   "outputs": [
    {
     "data": {
      "text/plain": [
       "{'outlook': {'overcast': 'yes',\n",
       "  'rainy': {'windy': {False: 'yes', True: 'no'}},\n",
       "  'sunny': {'humidity': {'high': 'no', 'normal': 'yes'}}}}"
      ]
     },
     "execution_count": 21,
     "metadata": {},
     "output_type": "execute_result"
    }
   ],
   "source": [
    "tree"
   ]
  },
  {
   "cell_type": "markdown",
   "metadata": {},
   "source": [
    "### Test on unseen data"
   ]
  },
  {
   "cell_type": "code",
   "execution_count": 22,
   "metadata": {
    "collapsed": false
   },
   "outputs": [
    {
     "data": {
      "text/html": [
       "<div>\n",
       "<style scoped>\n",
       "    .dataframe tbody tr th:only-of-type {\n",
       "        vertical-align: middle;\n",
       "    }\n",
       "\n",
       "    .dataframe tbody tr th {\n",
       "        vertical-align: top;\n",
       "    }\n",
       "\n",
       "    .dataframe thead th {\n",
       "        text-align: right;\n",
       "    }\n",
       "</style>\n",
       "<table border=\"1\" class=\"dataframe\">\n",
       "  <thead>\n",
       "    <tr style=\"text-align: right;\">\n",
       "      <th></th>\n",
       "      <th>outlook</th>\n",
       "      <th>temp</th>\n",
       "      <th>humidity</th>\n",
       "      <th>windy</th>\n",
       "    </tr>\n",
       "  </thead>\n",
       "  <tbody>\n",
       "    <tr>\n",
       "      <th>0</th>\n",
       "      <td>sunny</td>\n",
       "      <td>hot</td>\n",
       "      <td>high</td>\n",
       "      <td>False</td>\n",
       "    </tr>\n",
       "    <tr>\n",
       "      <th>1</th>\n",
       "      <td>sunny</td>\n",
       "      <td>hot</td>\n",
       "      <td>high</td>\n",
       "      <td>True</td>\n",
       "    </tr>\n",
       "    <tr>\n",
       "      <th>2</th>\n",
       "      <td>overcast</td>\n",
       "      <td>hot</td>\n",
       "      <td>high</td>\n",
       "      <td>False</td>\n",
       "    </tr>\n",
       "  </tbody>\n",
       "</table>\n",
       "</div>"
      ],
      "text/plain": [
       "    outlook temp humidity  windy\n",
       "0     sunny  hot     high  False\n",
       "1     sunny  hot     high   True\n",
       "2  overcast  hot     high  False"
      ]
     },
     "execution_count": 22,
     "metadata": {},
     "output_type": "execute_result"
    }
   ],
   "source": [
    "attributes_data[:3]"
   ]
  },
  {
   "cell_type": "code",
   "execution_count": 23,
   "metadata": {
    "collapsed": false
   },
   "outputs": [
    {
     "data": {
      "text/html": [
       "<div>\n",
       "<style scoped>\n",
       "    .dataframe tbody tr th:only-of-type {\n",
       "        vertical-align: middle;\n",
       "    }\n",
       "\n",
       "    .dataframe tbody tr th {\n",
       "        vertical-align: top;\n",
       "    }\n",
       "\n",
       "    .dataframe thead th {\n",
       "        text-align: right;\n",
       "    }\n",
       "</style>\n",
       "<table border=\"1\" class=\"dataframe\">\n",
       "  <thead>\n",
       "    <tr style=\"text-align: right;\">\n",
       "      <th></th>\n",
       "      <th>humidity</th>\n",
       "      <th>outlook</th>\n",
       "      <th>temp</th>\n",
       "      <th>windy</th>\n",
       "    </tr>\n",
       "  </thead>\n",
       "  <tbody>\n",
       "    <tr>\n",
       "      <th>0</th>\n",
       "      <td>normal</td>\n",
       "      <td>rainy</td>\n",
       "      <td>cool</td>\n",
       "      <td>True</td>\n",
       "    </tr>\n",
       "    <tr>\n",
       "      <th>1</th>\n",
       "      <td>normal</td>\n",
       "      <td>overcast</td>\n",
       "      <td>hot</td>\n",
       "      <td>False</td>\n",
       "    </tr>\n",
       "    <tr>\n",
       "      <th>2</th>\n",
       "      <td>normal</td>\n",
       "      <td>overcast</td>\n",
       "      <td>hot</td>\n",
       "      <td>False</td>\n",
       "    </tr>\n",
       "    <tr>\n",
       "      <th>3</th>\n",
       "      <td>high</td>\n",
       "      <td>overcast</td>\n",
       "      <td>hot</td>\n",
       "      <td>False</td>\n",
       "    </tr>\n",
       "    <tr>\n",
       "      <th>4</th>\n",
       "      <td>high</td>\n",
       "      <td>overcast</td>\n",
       "      <td>cool</td>\n",
       "      <td>True</td>\n",
       "    </tr>\n",
       "  </tbody>\n",
       "</table>\n",
       "</div>"
      ],
      "text/plain": [
       "  humidity   outlook  temp  windy\n",
       "0   normal     rainy  cool   True\n",
       "1   normal  overcast   hot  False\n",
       "2   normal  overcast   hot  False\n",
       "3     high  overcast   hot  False\n",
       "4     high  overcast  cool   True"
      ]
     },
     "execution_count": 23,
     "metadata": {},
     "output_type": "execute_result"
    }
   ],
   "source": [
    "test_size = 10\n",
    "\n",
    "unseen_attributes_data = pd.DataFrame({attribute: [random.choice(attributes_data[attribute].unique()) for item in range(test_size)] \n",
    "                                       for attribute in attributes_data})\n",
    "unseen_attributes_data[:5]"
   ]
  },
  {
   "cell_type": "code",
   "execution_count": 24,
   "metadata": {
    "collapsed": false
   },
   "outputs": [],
   "source": [
    "def classify(tree,rec_dict):\n",
    "    for attribute,sub_tree in tree.items():\n",
    "        attribute_value = rec_dict[attribute]\n",
    "        value_tree = sub_tree[attribute_value]\n",
    "        if isinstance(value_tree,dict):\n",
    "            return classify(value_tree,rec_dict)\n",
    "        else:\n",
    "            return value_tree"
   ]
  },
  {
   "cell_type": "code",
   "execution_count": 25,
   "metadata": {
    "collapsed": false
   },
   "outputs": [
    {
     "data": {
      "text/html": [
       "<div>\n",
       "<style scoped>\n",
       "    .dataframe tbody tr th:only-of-type {\n",
       "        vertical-align: middle;\n",
       "    }\n",
       "\n",
       "    .dataframe tbody tr th {\n",
       "        vertical-align: top;\n",
       "    }\n",
       "\n",
       "    .dataframe thead th {\n",
       "        text-align: right;\n",
       "    }\n",
       "</style>\n",
       "<table border=\"1\" class=\"dataframe\">\n",
       "  <thead>\n",
       "    <tr style=\"text-align: right;\">\n",
       "      <th></th>\n",
       "      <th>humidity</th>\n",
       "      <th>outlook</th>\n",
       "      <th>temp</th>\n",
       "      <th>windy</th>\n",
       "      <th>play</th>\n",
       "    </tr>\n",
       "  </thead>\n",
       "  <tbody>\n",
       "    <tr>\n",
       "      <th>0</th>\n",
       "      <td>normal</td>\n",
       "      <td>rainy</td>\n",
       "      <td>cool</td>\n",
       "      <td>True</td>\n",
       "      <td>no</td>\n",
       "    </tr>\n",
       "    <tr>\n",
       "      <th>1</th>\n",
       "      <td>normal</td>\n",
       "      <td>overcast</td>\n",
       "      <td>hot</td>\n",
       "      <td>False</td>\n",
       "      <td>yes</td>\n",
       "    </tr>\n",
       "    <tr>\n",
       "      <th>2</th>\n",
       "      <td>normal</td>\n",
       "      <td>overcast</td>\n",
       "      <td>hot</td>\n",
       "      <td>False</td>\n",
       "      <td>yes</td>\n",
       "    </tr>\n",
       "    <tr>\n",
       "      <th>3</th>\n",
       "      <td>high</td>\n",
       "      <td>overcast</td>\n",
       "      <td>hot</td>\n",
       "      <td>False</td>\n",
       "      <td>yes</td>\n",
       "    </tr>\n",
       "    <tr>\n",
       "      <th>4</th>\n",
       "      <td>high</td>\n",
       "      <td>overcast</td>\n",
       "      <td>cool</td>\n",
       "      <td>True</td>\n",
       "      <td>yes</td>\n",
       "    </tr>\n",
       "    <tr>\n",
       "      <th>5</th>\n",
       "      <td>normal</td>\n",
       "      <td>overcast</td>\n",
       "      <td>cool</td>\n",
       "      <td>False</td>\n",
       "      <td>yes</td>\n",
       "    </tr>\n",
       "    <tr>\n",
       "      <th>6</th>\n",
       "      <td>normal</td>\n",
       "      <td>sunny</td>\n",
       "      <td>mild</td>\n",
       "      <td>True</td>\n",
       "      <td>yes</td>\n",
       "    </tr>\n",
       "    <tr>\n",
       "      <th>7</th>\n",
       "      <td>normal</td>\n",
       "      <td>rainy</td>\n",
       "      <td>cool</td>\n",
       "      <td>False</td>\n",
       "      <td>yes</td>\n",
       "    </tr>\n",
       "    <tr>\n",
       "      <th>8</th>\n",
       "      <td>normal</td>\n",
       "      <td>rainy</td>\n",
       "      <td>cool</td>\n",
       "      <td>False</td>\n",
       "      <td>yes</td>\n",
       "    </tr>\n",
       "    <tr>\n",
       "      <th>9</th>\n",
       "      <td>high</td>\n",
       "      <td>sunny</td>\n",
       "      <td>hot</td>\n",
       "      <td>False</td>\n",
       "      <td>no</td>\n",
       "    </tr>\n",
       "  </tbody>\n",
       "</table>\n",
       "</div>"
      ],
      "text/plain": [
       "  humidity   outlook  temp  windy play\n",
       "0   normal     rainy  cool   True   no\n",
       "1   normal  overcast   hot  False  yes\n",
       "2   normal  overcast   hot  False  yes\n",
       "3     high  overcast   hot  False  yes\n",
       "4     high  overcast  cool   True  yes\n",
       "5   normal  overcast  cool  False  yes\n",
       "6   normal     sunny  mild   True  yes\n",
       "7   normal     rainy  cool  False  yes\n",
       "8   normal     rainy  cool  False  yes\n",
       "9     high     sunny   hot  False   no"
      ]
     },
     "execution_count": 25,
     "metadata": {},
     "output_type": "execute_result"
    }
   ],
   "source": [
    "predictions = [classify(tree,record) for record in unseen_attributes_data.to_dict('records')]\n",
    "unseen_data = pd.concat([unseen_attributes_data,pd.Series(predictions,name=TARGET_COLUMN)],axis=1)\n",
    "unseen_data"
   ]
  }
 ],
 "metadata": {
  "kernelspec": {
   "display_name": "Python 2",
   "language": "python",
   "name": "python2"
  },
  "language_info": {
   "codemirror_mode": {
    "name": "ipython",
    "version": 2
   },
   "file_extension": ".py",
   "mimetype": "text/x-python",
   "name": "python",
   "nbconvert_exporter": "python",
   "pygments_lexer": "ipython2",
   "version": "2.7.13"
  }
 },
 "nbformat": 4,
 "nbformat_minor": 0
}
